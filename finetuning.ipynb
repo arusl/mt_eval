{
 "cells": [
  {
   "cell_type": "code",
   "execution_count": 33,
   "id": "c27b3b8b",
   "metadata": {},
   "outputs": [
    {
     "name": "stderr",
     "output_type": "stream",
     "text": [
      "Using custom data configuration default\n",
      "Reusing dataset bsd_ja_en (C:\\Users\\mkk-lab\\.cache\\huggingface\\datasets\\bsd_ja_en\\default\\1.0.0\\584d1d2fee129f4799fccf10cb83c7cc0a7e6147094435909c3932c4380ddb24)\n",
      "Using custom data configuration default\n",
      "Reusing dataset bsd_ja_en (C:\\Users\\mkk-lab\\.cache\\huggingface\\datasets\\bsd_ja_en\\default\\1.0.0\\584d1d2fee129f4799fccf10cb83c7cc0a7e6147094435909c3932c4380ddb24)\n"
     ]
    }
   ],
   "source": [
    "from datasets import load_dataset\n",
    "\n",
    "train_dataset = load_dataset(\"bsd_ja_en\", split='train', ignore_verifications=True)\n",
    "dev_dataset = load_dataset(\"bsd_ja_en\", split='validation', ignore_verifications=True)"
   ]
  },
  {
   "cell_type": "code",
   "execution_count": 34,
   "id": "a1c4fc1d",
   "metadata": {},
   "outputs": [
    {
     "data": {
      "text/plain": [
       "Dataset({\n",
       "    features: ['id', 'tag', 'title', 'original_language', 'no', 'en_speaker', 'ja_speaker', 'en_sentence', 'ja_sentence'],\n",
       "    num_rows: 20000\n",
       "})"
      ]
     },
     "execution_count": 34,
     "metadata": {},
     "output_type": "execute_result"
    }
   ],
   "source": [
    "train_dataset"
   ]
  },
  {
   "cell_type": "code",
   "execution_count": 38,
   "id": "186317ca",
   "metadata": {},
   "outputs": [],
   "source": [
    "# # Check dataset contents\n",
    "# train_dataset[0]\n",
    "# train_dataset[:]['en_sentence']\n",
    "# train_dataset[:]['ja_sentence']"
   ]
  },
  {
   "cell_type": "code",
   "execution_count": null,
   "id": "d13a11d8",
   "metadata": {},
   "outputs": [],
   "source": [
    "# https://huggingface.co/course/chapter7/4?fw=tf#processing-the-data\n",
    "# rest of the tutorials"
   ]
  },
  {
   "cell_type": "code",
   "execution_count": null,
   "id": "f33d730f",
   "metadata": {},
   "outputs": [],
   "source": []
  },
  {
   "cell_type": "code",
   "execution_count": null,
   "id": "18ac6c09",
   "metadata": {},
   "outputs": [],
   "source": []
  }
 ],
 "metadata": {
  "kernelspec": {
   "display_name": "Python 3 (ipykernel)",
   "language": "python",
   "name": "python3"
  },
  "language_info": {
   "codemirror_mode": {
    "name": "ipython",
    "version": 3
   },
   "file_extension": ".py",
   "mimetype": "text/x-python",
   "name": "python",
   "nbconvert_exporter": "python",
   "pygments_lexer": "ipython3",
   "version": "3.9.1"
  }
 },
 "nbformat": 4,
 "nbformat_minor": 5
}
