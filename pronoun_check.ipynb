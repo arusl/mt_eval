{
 "cells": [
  {
   "cell_type": "code",
   "execution_count": 3,
   "id": "a69cc054",
   "metadata": {},
   "outputs": [],
   "source": [
    "import pandas as pd\n",
    "\n",
    "df = pd.read_csv('results/results_with_da_scores.tsv', sep='\\t')\n",
    "refs, preds, srcs = df['Target_En'].tolist(), df['Translation_En_Ours'].tolist(), df['Source_Ja'].tolist()"
   ]
  },
  {
   "cell_type": "markdown",
   "id": "b26f64cd",
   "metadata": {},
   "source": [
    "## POS Tagging"
   ]
  },
  {
   "cell_type": "code",
   "execution_count": 1,
   "id": "2019c5b0",
   "metadata": {
    "scrolled": true
   },
   "outputs": [
    {
     "name": "stderr",
     "output_type": "stream",
     "text": [
      "[nltk_data] Downloading package punkt to C:\\Users\\mkk-\n",
      "[nltk_data]     lab\\AppData\\Roaming\\nltk_data...\n",
      "[nltk_data]   Package punkt is already up-to-date!\n",
      "[nltk_data] Downloading package averaged_perceptron_tagger to\n",
      "[nltk_data]     C:\\Users\\mkk-lab\\AppData\\Roaming\\nltk_data...\n",
      "[nltk_data]   Package averaged_perceptron_tagger is already up-to-\n",
      "[nltk_data]       date!\n"
     ]
    },
    {
     "data": {
      "text/plain": [
       "True"
      ]
     },
     "execution_count": 1,
     "metadata": {},
     "output_type": "execute_result"
    }
   ],
   "source": [
    "import nltk\n",
    "nltk.download('punkt')\n",
    "nltk.download('averaged_perceptron_tagger')"
   ]
  },
  {
   "cell_type": "code",
   "execution_count": 4,
   "id": "91d35210",
   "metadata": {},
   "outputs": [],
   "source": [
    "from nltk.tokenize import word_tokenize\n",
    "prons_ref = []\n",
    "for text in refs:\n",
    "    pron_in_ref = []\n",
    "    for pos in nltk.pos_tag(word_tokenize(text)):\n",
    "        if 'PRP' in pos or 'PRP$' in pos:\n",
    "            pron_in_ref.append(pos)\n",
    "    prons_ref.append(pron_in_ref)\n",
    "    \n",
    "prons_pred = []\n",
    "for text in preds:\n",
    "    pron_in_pred = []\n",
    "    for pos in nltk.pos_tag(word_tokenize(text)):\n",
    "        if 'PRP' in pos or 'PRP$' in pos:\n",
    "            pron_in_pred.append(pos)\n",
    "    prons_pred.append(pron_in_pred)"
   ]
  },
  {
   "cell_type": "code",
   "execution_count": 5,
   "id": "ac881254",
   "metadata": {},
   "outputs": [
    {
     "name": "stdout",
     "output_type": "stream",
     "text": [
      "283\n",
      "283\n"
     ]
    }
   ],
   "source": [
    "print(len(prons_ref))\n",
    "print(len(prons_pred))"
   ]
  },
  {
   "cell_type": "code",
   "execution_count": 11,
   "id": "56779774",
   "metadata": {},
   "outputs": [],
   "source": [
    "# for i in range(len(prons_ref)):\n",
    "#     print(\"Prons in Ref: \", prons_ref[i], \" | Prons in Pred: \", prons_pred[i])"
   ]
  },
  {
   "cell_type": "code",
   "execution_count": 12,
   "id": "e7b9ccf8",
   "metadata": {},
   "outputs": [],
   "source": [
    "# refs"
   ]
  },
  {
   "cell_type": "code",
   "execution_count": 10,
   "id": "5301e2c0",
   "metadata": {
    "scrolled": true
   },
   "outputs": [
    {
     "name": "stderr",
     "output_type": "stream",
     "text": [
      "[nltk_data] Downloading package punkt to C:\\Users\\mkk-\n",
      "[nltk_data]     lab\\AppData\\Roaming\\nltk_data...\n",
      "[nltk_data]   Package punkt is already up-to-date!\n",
      "[nltk_data] Downloading package averaged_perceptron_tagger to\n",
      "[nltk_data]     C:\\Users\\mkk-lab\\AppData\\Roaming\\nltk_data...\n",
      "[nltk_data]   Package averaged_perceptron_tagger is already up-to-\n",
      "[nltk_data]       date!\n"
     ]
    },
    {
     "data": {
      "text/plain": [
       "(283, 283, 283)"
      ]
     },
     "execution_count": 10,
     "metadata": {},
     "output_type": "execute_result"
    }
   ],
   "source": [
    "## POS Tagging\n",
    "\n",
    "import nltk\n",
    "nltk.download('punkt')\n",
    "nltk.download('averaged_perceptron_tagger')\n",
    "\n",
    "from nltk.tokenize import word_tokenize\n",
    "prons_ref = []\n",
    "for text in refs:\n",
    "    pron_in_ref = []\n",
    "    for pos in nltk.pos_tag(word_tokenize(text)):\n",
    "        if 'PRP' in pos or 'PRP$' in pos:\n",
    "            pron_in_ref.append(pos)\n",
    "    prons_ref.append(pron_in_ref)\n",
    "    \n",
    "prons_pred = []\n",
    "for text in preds:\n",
    "    pron_in_pred = []\n",
    "    for pos in nltk.pos_tag(word_tokenize(text)):\n",
    "        if 'PRP' in pos or 'PRP$' in pos:\n",
    "            pron_in_pred.append(pos)\n",
    "    prons_pred.append(pron_in_pred)\n",
    "\n",
    "# for i in range(len(prons_ref)):\n",
    "#     print(\"Prons in Ref: \", prons_ref[i], \" | Prons in Pred: \", prons_pred[i])\n",
    "\n",
    "refs\n",
    "refs2d = []\n",
    "for ref in refs:\n",
    "    refs2d.append([ref])\n",
    "\n",
    "len(refs), len(preds), len(refs2d)"
   ]
  },
  {
   "cell_type": "markdown",
   "id": "5997b18e",
   "metadata": {},
   "source": []
  },
  {
   "cell_type": "code",
   "execution_count": 15,
   "id": "3dc0b24e",
   "metadata": {},
   "outputs": [
    {
     "data": {
      "text/plain": [
       "{'reference_context': ['i',\n",
       "  'really',\n",
       "  'do',\n",
       "  'not',\n",
       "  'know',\n",
       "  '.',\n",
       "  'i',\n",
       "  'm',\n",
       "  'rather',\n",
       "  'a',\n",
       "  'novice',\n",
       "  'in',\n",
       "  'prague',\n",
       "  'politics',\n",
       "  'responded',\n",
       "  'lukas',\n",
       "  'kaucky',\n",
       "  'the',\n",
       "  'councilor',\n",
       "  'for',\n",
       "  'culture',\n",
       "  'to',\n",
       "  'the',\n",
       "  'test',\n",
       "  'of',\n",
       "  'godfather',\n",
       "  'vocabulary',\n",
       "  '.',\n",
       "  'and',\n",
       "  'even',\n",
       "  'though',\n",
       "  'he',\n",
       "  'is',\n",
       "  'a',\n",
       "  'political',\n",
       "  'veteran',\n",
       "  'the',\n",
       "  'councilor',\n",
       "  'karel',\n",
       "  'brezina',\n",
       "  'responded',\n",
       "  'similarly',\n",
       "  '.'],\n",
       " 'reference_sentence': ['and',\n",
       "  'even',\n",
       "  'though',\n",
       "  'he',\n",
       "  'is',\n",
       "  'a',\n",
       "  'political',\n",
       "  'veteran',\n",
       "  'the',\n",
       "  'councilor',\n",
       "  'karel',\n",
       "  'brezina',\n",
       "  'responded',\n",
       "  'similarly',\n",
       "  '.'],\n",
       " 'reference_pronouns': ['he'],\n",
       " 'system_context': ['i',\n",
       "  'really',\n",
       "  'do',\n",
       "  'not',\n",
       "  'know',\n",
       "  '.',\n",
       "  'i',\n",
       "  'am',\n",
       "  'in',\n",
       "  'the',\n",
       "  'prague',\n",
       "  'policy',\n",
       "  'more',\n",
       "  'nervousness',\n",
       "  'respond',\n",
       "  'to',\n",
       "  'test',\n",
       "  'kmotrovsk',\n",
       "  'ho',\n",
       "  'slovn',\n",
       "  'ku',\n",
       "  'councillors',\n",
       "  'on',\n",
       "  'culture',\n",
       "  'luk',\n",
       "  'kauck',\n",
       "  '.',\n",
       "  'and',\n",
       "  'while',\n",
       "  'it',\n",
       "  'is',\n",
       "  'a',\n",
       "  'political',\n",
       "  'a',\n",
       "  'veteran',\n",
       "  'respond',\n",
       "  'similarly',\n",
       "  'councillors',\n",
       "  'karl',\n",
       "  'b',\n",
       "  'ezina',\n",
       "  'would',\n",
       "  '.'],\n",
       " 'system_sentence': ['and',\n",
       "  'while',\n",
       "  'it',\n",
       "  'is',\n",
       "  'a',\n",
       "  'political',\n",
       "  'a',\n",
       "  'veteran',\n",
       "  'respond',\n",
       "  'similarly',\n",
       "  'councillors',\n",
       "  'karl',\n",
       "  'b',\n",
       "  'ezina',\n",
       "  'would',\n",
       "  '.'],\n",
       " 'system_pronouns': ['it'],\n",
       " 'noisy_context': ['i',\n",
       "  'really',\n",
       "  'do',\n",
       "  'not',\n",
       "  'know',\n",
       "  '.',\n",
       "  'i',\n",
       "  'm',\n",
       "  'rather',\n",
       "  'a',\n",
       "  'novice',\n",
       "  'in',\n",
       "  'prague',\n",
       "  'politics',\n",
       "  'responded',\n",
       "  'lukas',\n",
       "  'kaucky',\n",
       "  'the',\n",
       "  'councilor',\n",
       "  'for',\n",
       "  'culture',\n",
       "  'to',\n",
       "  'the',\n",
       "  'test',\n",
       "  'of',\n",
       "  'godfather',\n",
       "  'vocabulary',\n",
       "  '.',\n",
       "  'and',\n",
       "  'even',\n",
       "  'though',\n",
       "  'it',\n",
       "  'is',\n",
       "  'a',\n",
       "  'political',\n",
       "  'veteran',\n",
       "  'the',\n",
       "  'councilor',\n",
       "  'karel',\n",
       "  'brezina',\n",
       "  'responded',\n",
       "  'similarly',\n",
       "  '.'],\n",
       " 'noisy_sentence': ['and',\n",
       "  'even',\n",
       "  'though',\n",
       "  'it',\n",
       "  'is',\n",
       "  'a',\n",
       "  'political',\n",
       "  'veteran',\n",
       "  'the',\n",
       "  'councilor',\n",
       "  'karel',\n",
       "  'brezina',\n",
       "  'responded',\n",
       "  'similarly',\n",
       "  '.'],\n",
       " 'noisy_pronouns': ['it'],\n",
       " 'origin': '/home/jwala/discourse_mt/alignment/WMT_data/newstest2011/cz-en/newstest2011.cz-en.cst.sgm_9'}"
      ]
     },
     "execution_count": 15,
     "metadata": {},
     "output_type": "execute_result"
    }
   ],
   "source": [
    "import pickle\n",
    "with open(r\"train_data.pkl\", \"rb\") as input_file:\n",
    "    z = pickle.load(input_file)\n",
    "z"
   ]
  },
  {
   "cell_type": "code",
   "execution_count": 17,
   "id": "853e0f19",
   "metadata": {},
   "outputs": [
    {
     "data": {
      "text/plain": [
       "'i really do not know . i m rather a novice in prague politics responded lukas kaucky the councilor for culture to the test of godfather vocabulary . and even though he is a political veteran the councilor karel brezina responded similarly .'"
      ]
     },
     "execution_count": 17,
     "metadata": {},
     "output_type": "execute_result"
    }
   ],
   "source": [
    "' '.join(z['reference_context'])"
   ]
  },
  {
   "cell_type": "code",
   "execution_count": 18,
   "id": "181f8d21",
   "metadata": {},
   "outputs": [
    {
     "data": {
      "text/plain": [
       "'i really do not know . i am in the prague policy more nervousness respond to test kmotrovsk ho slovn ku councillors on culture luk kauck . and while it is a political a veteran respond similarly councillors karl b ezina would .'"
      ]
     },
     "execution_count": 18,
     "metadata": {},
     "output_type": "execute_result"
    }
   ],
   "source": [
    "' '.join(z['system_context'])"
   ]
  },
  {
   "cell_type": "code",
   "execution_count": 19,
   "id": "2f41fda5",
   "metadata": {},
   "outputs": [
    {
     "data": {
      "text/plain": [
       "'and even though he is a political veteran the councilor karel brezina responded similarly .'"
      ]
     },
     "execution_count": 19,
     "metadata": {},
     "output_type": "execute_result"
    }
   ],
   "source": [
    "' '.join(z['reference_sentence'])"
   ]
  },
  {
   "cell_type": "code",
   "execution_count": 20,
   "id": "4d215e2c",
   "metadata": {},
   "outputs": [
    {
     "data": {
      "text/plain": [
       "'and while it is a political a veteran respond similarly councillors karl b ezina would .'"
      ]
     },
     "execution_count": 20,
     "metadata": {},
     "output_type": "execute_result"
    }
   ],
   "source": [
    "' '.join(z['system_sentence'])"
   ]
  },
  {
   "cell_type": "code",
   "execution_count": null,
   "id": "2303b417",
   "metadata": {},
   "outputs": [],
   "source": []
  }
 ],
 "metadata": {
  "kernelspec": {
   "display_name": "Python 3 (ipykernel)",
   "language": "python",
   "name": "python3"
  },
  "language_info": {
   "codemirror_mode": {
    "name": "ipython",
    "version": 3
   },
   "file_extension": ".py",
   "mimetype": "text/x-python",
   "name": "python",
   "nbconvert_exporter": "python",
   "pygments_lexer": "ipython3",
   "version": "3.9.1"
  }
 },
 "nbformat": 4,
 "nbformat_minor": 5
}
