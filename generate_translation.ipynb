{
 "cells": [
  {
   "cell_type": "markdown",
   "id": "8f816404",
   "metadata": {},
   "source": [
    "## Load BSD Dev Set"
   ]
  },
  {
   "cell_type": "code",
   "execution_count": 1,
   "id": "dfb8bfa3",
   "metadata": {},
   "outputs": [
    {
     "name": "stdout",
     "output_type": "stream",
     "text": [
      "['training' 'meeting' 'phone call' 'general chatting'\n",
      " 'face-to-face conversation' 'presentation']\n"
     ]
    }
   ],
   "source": [
    "import pandas as pd\n",
    "df = pd.read_json('bsd_dev.json')\n",
    "print(df['tag'].unique())\n",
    "df_convs = pd.concat([pd.json_normalize(df['conversation'][i]) for i in range(len(df))],ignore_index=True)\n",
    "english = df_convs[\"en_sentence\"].values.tolist()\n",
    "japanese = df_convs[\"ja_sentence\"].values.tolist()"
   ]
  },
  {
   "cell_type": "markdown",
   "id": "2bae516e",
   "metadata": {},
   "source": [
    "## Translate with M2M100"
   ]
  },
  {
   "cell_type": "code",
   "execution_count": 9,
   "id": "ea718e8d",
   "metadata": {
    "scrolled": true
   },
   "outputs": [
    {
     "data": {
      "text/plain": [
       "['I am Andrea.']"
      ]
     },
     "execution_count": 9,
     "metadata": {},
     "output_type": "execute_result"
    }
   ],
   "source": [
    "# https://huggingface.co/docs/transformers/model_doc/m2m_100\n",
    "from transformers import M2M100ForConditionalGeneration, M2M100Tokenizer\n",
    "\n",
    "japanese_text = \"私はアンドレです。\"\n",
    "\n",
    "model = M2M100ForConditionalGeneration.from_pretrained(\"facebook/m2m100_418M\")\n",
    "tokenizer = M2M100Tokenizer.from_pretrained(\"facebook/m2m100_418M\")\n",
    "\n",
    "# translate Chinese to English\n",
    "tokenizer.src_lang = \"ja\"\n",
    "encoded_ja = tokenizer(japanese_text, return_tensors=\"pt\")\n",
    "generated_tokens = model.generate(**encoded_ja, forced_bos_token_id=tokenizer.get_lang_id(\"en\"))\n",
    "tokenizer.batch_decode(generated_tokens, skip_special_tokens=True)"
   ]
  },
  {
   "cell_type": "code",
   "execution_count": 21,
   "id": "1ad31fc0",
   "metadata": {},
   "outputs": [
    {
     "name": "stderr",
     "output_type": "stream",
     "text": [
      "0it [00:00, ?it/s]d:\\andre\\aacl\\mt_eval\\.env\\lib\\site-packages\\transformers\\generation_utils.py:1202: UserWarning: Neither `max_length` nor `max_new_tokens` have been set, `max_length` will default to 200 (`self.config.max_length`). Controlling `max_length` via the config is deprecated and `max_length` will be removed from the config in v5 of Transformers -- we recommend using `max_new_tokens` to control the maximum length of the generation.\n",
      "  warnings.warn(\n",
      "2051it [37:46,  1.10s/it]\n"
     ]
    }
   ],
   "source": [
    "#translate\n",
    "from tqdm import tqdm\n",
    "\n",
    "preds = []\n",
    "for i, ja in tqdm(enumerate(japanese)):\n",
    "    encoded_ja = tokenizer(ja, return_tensors=\"pt\")\n",
    "    generated_tokens = model.generate(**encoded_ja, forced_bos_token_id=tokenizer.get_lang_id(\"en\"))\n",
    "    preds.append(tokenizer.batch_decode(generated_tokens, skip_special_tokens=True)[0])"
   ]
  },
  {
   "cell_type": "code",
   "execution_count": 22,
   "id": "d6b18a62",
   "metadata": {},
   "outputs": [],
   "source": [
    "#save to csv\n",
    "sample = {'Source_Ja': japanese,\n",
    "         'Target_En': english,\n",
    "         'Translation_En': preds}\n",
    "\n",
    "# creating the DataFrame\n",
    "df = pd.DataFrame(sample)\n",
    "df.to_csv('example.tsv', sep=\"\\t\", index=False)"
   ]
  },
  {
   "cell_type": "markdown",
   "id": "b91f1468",
   "metadata": {},
   "source": [
    "## Translate with MarianMT - Helsinki-NLP/opus-mt-ja-en"
   ]
  },
  {
   "cell_type": "code",
   "execution_count": 5,
   "id": "ac41edd7",
   "metadata": {
    "scrolled": false
   },
   "outputs": [
    {
     "data": {
      "text/plain": [
       "[\"I'm Andre.\"]"
      ]
     },
     "execution_count": 5,
     "metadata": {},
     "output_type": "execute_result"
    }
   ],
   "source": [
    "# https://huggingface.co/docs/transformers/model_doc/marian\n",
    "from transformers import MarianMTModel, MarianTokenizer\n",
    "\n",
    "src_text = [\"私はアンドレです。\"]\n",
    "\n",
    "model_name = \"Helsinki-NLP/opus-mt-ja-en\"\n",
    "tokenizer = MarianTokenizer.from_pretrained(model_name)\n",
    "model = MarianMTModel.from_pretrained(model_name)\n",
    "translated = model.generate(**tokenizer(src_text, return_tensors=\"pt\", padding=True))\n",
    "[tokenizer.decode(t, skip_special_tokens=True) for t in translated]"
   ]
  },
  {
   "cell_type": "code",
   "execution_count": null,
   "id": "1d410092",
   "metadata": {},
   "outputs": [],
   "source": [
    "#translate\n",
    "from tqdm import tqdm\n",
    "\n",
    "preds1 = []\n",
    "for i, ja in tqdm(enumerate(japanese)):\n",
    "    translated = model.generate(**tokenizer(ja, return_tensors=\"pt\", padding=True))\n",
    "    preds1.append([tokenizer.decode(t, skip_special_tokens=True) for t in translated][0])"
   ]
  },
  {
   "cell_type": "code",
   "execution_count": null,
   "id": "86ee3702",
   "metadata": {},
   "outputs": [],
   "source": [
    "#save to csv\n",
    "sample1 = {'Source_Ja': japanese,\n",
    "         'Target_En': english,\n",
    "         'Translation_En': preds1}\n",
    "\n",
    "# creating the DataFrame\n",
    "df1 = pd.DataFrame(sample1)\n",
    "df1.to_csv('bsd_dev_translations_marianmt.tsv', sep=\"\\t\", index=False)"
   ]
  }
 ],
 "metadata": {
  "kernelspec": {
   "display_name": "Python 3 (ipykernel)",
   "language": "python",
   "name": "python3"
  },
  "language_info": {
   "codemirror_mode": {
    "name": "ipython",
    "version": 3
   },
   "file_extension": ".py",
   "mimetype": "text/x-python",
   "name": "python",
   "nbconvert_exporter": "python",
   "pygments_lexer": "ipython3",
   "version": "3.9.1"
  }
 },
 "nbformat": 4,
 "nbformat_minor": 5
}
